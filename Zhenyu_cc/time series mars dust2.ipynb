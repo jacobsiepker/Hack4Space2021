{
 "cells": [
  {
   "cell_type": "code",
   "execution_count": null,
   "metadata": {},
   "outputs": [],
   "source": [
    "import numpy as np\n",
    "import pandas as pd\n",
    "import seaborn as sn\n",
    "import plotly.express as px\n",
    "import matplotlib.pyplot as plt"
   ]
  },
  {
   "cell_type": "code",
   "execution_count": null,
   "metadata": {},
   "outputs": [],
   "source": [
    "df = pd.read_csv('parserData (1).csv')\n",
    "df.head()"
   ]
  },
  {
   "cell_type": "code",
   "execution_count": null,
   "metadata": {},
   "outputs": [],
   "source": [
    "df.columns = ['Date','Time', 'Lat', 'Long','Dust Density', 'Dust Density Accuracy', 'Ice', 'Ice Accuracy']\n",
    "df.head()"
   ]
  },
  {
   "cell_type": "code",
   "execution_count": null,
   "metadata": {},
   "outputs": [],
   "source": [
    "df.describe(include='all')"
   ]
  },
  {
   "cell_type": "code",
   "execution_count": null,
   "metadata": {},
   "outputs": [],
   "source": [
    "df.info()"
   ]
  },
  {
   "cell_type": "code",
   "execution_count": null,
   "metadata": {},
   "outputs": [],
   "source": [
    "cor = df.corr()\n",
    "sn.heatmap(cor, annot=True)\n",
    "plt.show()\n",
    "#density is correlated to latitude "
   ]
  },
  {
   "cell_type": "code",
   "execution_count": null,
   "metadata": {},
   "outputs": [],
   "source": [
    "df['Dust Density'].plot(kind='hist')\n",
    "plt.title('Dust Density')\n",
    "plt.grid()\n",
    "plt.show()\n",
    "#density distribute around 0-0.001"
   ]
  },
  {
   "cell_type": "code",
   "execution_count": null,
   "metadata": {},
   "outputs": [],
   "source": [
    "plt.figure(figsize=(14,8))\n",
    "plt.scatter(x=df.Long,\n",
    "            y=df.Lat,\n",
    "            s=df['Dust Density'],\n",
    "            color='red',\n",
    "            alpha=0.5)\n",
    "plt.xlabel('Longitude')\n",
    "plt.ylabel('Latitude')\n",
    "plt.grid()\n",
    "plt.title('Mars Dust Density')\n",
    "plt.show()"
   ]
  },
  {
   "cell_type": "code",
   "execution_count": null,
   "metadata": {},
   "outputs": [],
   "source": [
    "plt.figure(figsize=(14,8))\n",
    "plt.scatter(x=df.Long,\n",
    "            y=df.Lat,\n",
    "            s=df['Ice'],\n",
    "            color='red',\n",
    "            alpha=0.5)\n",
    "plt.xlabel('Longitude')\n",
    "plt.ylabel('Latitude')\n",
    "plt.grid()\n",
    "plt.title('Mars Ice')\n",
    "plt.show()"
   ]
  },
  {
   "cell_type": "code",
   "execution_count": null,
   "metadata": {},
   "outputs": [],
   "source": [
    "fig = px.scatter(df, x='Long', y='Lat',\n",
    "                 color='Dust Density', size='Dust Density', \n",
    "                  opacity=0.5)\n",
    "fig.update_layout(title='Mars Dust Density',\n",
    "                  xaxis_title='Longitude',  \n",
    "                  yaxis_title='Latitude')\n",
    "fig.show()"
   ]
  },
  {
   "cell_type": "code",
   "execution_count": null,
   "metadata": {},
   "outputs": [],
   "source": [
    "apr1=df[df['Date']=='01-Apr-2015']"
   ]
  },
  {
   "cell_type": "code",
   "execution_count": null,
   "metadata": {},
   "outputs": [],
   "source": [
    "fig = px.scatter(apr1, x='Long', y='Lat',\n",
    "                 color='Dust Density', size='Dust Density', \n",
    "                  opacity=0.5)\n",
    "fig.update_layout(title='Mars Dust Density',\n",
    "                  xaxis_title='Longitude',  \n",
    "                  yaxis_title='Latitude')\n",
    "fig.show()"
   ]
  },
  {
   "cell_type": "code",
   "execution_count": null,
   "metadata": {},
   "outputs": [],
   "source": [
    "apr2=df[df['Date']=='04-Apr-2015']\n",
    "apr2"
   ]
  },
  {
   "cell_type": "code",
   "execution_count": null,
   "metadata": {},
   "outputs": [],
   "source": [
    "fig = px.scatter(apr2, x='Long', y='Lat',\n",
    "                 color='Dust Density', size='Dust Density', \n",
    "                  opacity=0.5)\n",
    "fig.update_layout(title='Mars Dust Density',\n",
    "                  xaxis_title='Longitude',  \n",
    "                  yaxis_title='Latitude')\n",
    "fig.show()"
   ]
  },
  {
   "cell_type": "code",
   "execution_count": null,
   "metadata": {},
   "outputs": [],
   "source": [
    "apr3=df[df['Date']=='05-Apr-2015']\n",
    "apr3"
   ]
  },
  {
   "cell_type": "code",
   "execution_count": null,
   "metadata": {},
   "outputs": [],
   "source": [
    "fig = px.scatter(apr3, x='Long', y='Lat',\n",
    "                 color='Dust Density', size='Dust Density', \n",
    "                  opacity=0.5)\n",
    "fig.update_layout(title='Mars Dust Density',\n",
    "                  xaxis_title='Longitude',  \n",
    "                  yaxis_title='Latitude')\n",
    "fig.show()"
   ]
  },
  {
   "cell_type": "code",
   "execution_count": null,
   "metadata": {},
   "outputs": [],
   "source": [
    "fig = px.scatter(apr1, x='Long', y='Lat',\n",
    "                 color='Ice', \n",
    "                  opacity=0.5)\n",
    "fig.update_layout(title='Mars Water Ice',\n",
    "                  xaxis_title='Longitude',  \n",
    "                  yaxis_title='Latitude')\n",
    "fig.show()"
   ]
  },
  {
   "cell_type": "code",
   "execution_count": null,
   "metadata": {},
   "outputs": [],
   "source": [
    "df"
   ]
  },
  {
   "cell_type": "code",
   "execution_count": null,
   "metadata": {},
   "outputs": [],
   "source": [
    "from datetime import datetime\n",
    "df['Date'] = pd.to_datetime(df['Date']).dt.strftime('%Y-%m-%d')\n",
    "df"
   ]
  },
  {
   "cell_type": "code",
   "execution_count": null,
   "metadata": {},
   "outputs": [],
   "source": [
    "day25=df[df['Date']=='2015-04-25']\n",
    "print(day25)"
   ]
  },
  {
   "cell_type": "code",
   "execution_count": null,
   "metadata": {},
   "outputs": [],
   "source": [
    "day30=df[df['Date']=='2015-04-30']\n",
    "print(day30)"
   ]
  },
  {
   "cell_type": "code",
   "execution_count": null,
   "metadata": {},
   "outputs": [],
   "source": [
    "df2=df.copy()"
   ]
  },
  {
   "cell_type": "code",
   "execution_count": null,
   "metadata": {},
   "outputs": [],
   "source": [
    "df2['Date_Time']=df2['Date']+df2['Time']\n",
    "df2.head()\n",
    "print(df2['Date_Time'])"
   ]
  },
  {
   "cell_type": "code",
   "execution_count": null,
   "metadata": {},
   "outputs": [],
   "source": [
    "dust = df2.drop(['Date','Time','Lat','Long','Dust Density Accuracy','Ice','Ice Accuracy'], axis=1)\n",
    "dust = dust.set_index(['Date_Time'])\n",
    "dust"
   ]
  },
  {
   "cell_type": "code",
   "execution_count": null,
   "metadata": {},
   "outputs": [],
   "source": [
    "plt.figure(figsize=(14,8))\n",
    "plt.xlabel('Date_Time')\n",
    "plt.ylabel('Dust Density')\n",
    "plt.xticks(rotation=90)\n",
    "plt.plot(dust)\n",
    "#too much data "
   ]
  },
  {
   "cell_type": "code",
   "execution_count": null,
   "metadata": {},
   "outputs": [],
   "source": [
    "#extract only 5 days data \n",
    "sample=dust.loc['2015-04-2500:00:25.617':'2015-04-3023:59:43.891']\n",
    "sample #last 5 day "
   ]
  },
  {
   "cell_type": "code",
   "execution_count": null,
   "metadata": {},
   "outputs": [],
   "source": [
    "plt.figure(figsize=(14,8))\n",
    "plt.xlabel('Date_Time')\n",
    "plt.ylabel('Dust Density')\n",
    "plt.xticks(rotation=90)\n",
    "plt.plot(sample)"
   ]
  },
  {
   "cell_type": "code",
   "execution_count": null,
   "metadata": {},
   "outputs": [],
   "source": [
    "from statsmodels.tsa.stattools import adfuller "
   ]
  },
  {
   "cell_type": "code",
   "execution_count": null,
   "metadata": {},
   "outputs": [],
   "source": [
    "#test stationary \n",
    "print('Results of Dickey Fuller Test:')\n",
    "dftest = adfuller(sample['Dust Density'], autolag='AIC')\n",
    "\n",
    "dfoutput = pd.Series(dftest[0:4], index=['Test Statistic','p-value','#Lags Used','Number of Observations Used'])\n",
    "for key,value in dftest[4].items():\n",
    "    dfoutput['Critical Value (%s)'%key] = value\n",
    "    \n",
    "print(dfoutput)\n",
    "\n",
    "#result shows stationarity & no unit root detected "
   ]
  },
  {
   "cell_type": "markdown",
   "metadata": {},
   "source": [
    "# Auto regressive Model "
   ]
  },
  {
   "cell_type": "code",
   "execution_count": null,
   "metadata": {},
   "outputs": [],
   "source": [
    "from statsmodels.graphics.tsaplots import plot_acf, plot_pacf\n",
    "from pandas.plotting import autocorrelation_plot\n",
    "import statsmodels.api as sm\n",
    "from statsmodels.tsa.arima_model import ARIMA"
   ]
  },
  {
   "cell_type": "code",
   "execution_count": null,
   "metadata": {},
   "outputs": [],
   "source": [
    "autocorrelation_plot(sample['Dust Density'])\n",
    "plt.show()"
   ]
  },
  {
   "cell_type": "code",
   "execution_count": null,
   "metadata": {},
   "outputs": [],
   "source": [
    "fig = plt.figure(figsize=(12,8))\n",
    "ax1 = fig.add_subplot(211)\n",
    "fig = sm.graphics.tsa.plot_acf(sample['Dust Density'],lags=40,ax=ax1)\n",
    "ax2 = fig.add_subplot(212)\n",
    "fig = sm.graphics.tsa.plot_pacf(sample['Dust Density'],lags=40,ax=ax2)\n",
    "\n",
    "#MA model from ACF =3, OR 4\n",
    "#AR model from PACF = 1\n",
    "#no differencing "
   ]
  },
  {
   "cell_type": "code",
   "execution_count": null,
   "metadata": {},
   "outputs": [],
   "source": []
  },
  {
   "cell_type": "code",
   "execution_count": null,
   "metadata": {},
   "outputs": [],
   "source": [
    "#model 1 \n",
    "model=ARIMA(sample['Dust Density'],order=(1,0,2))\n",
    "model_fit=model.fit()"
   ]
  },
  {
   "cell_type": "code",
   "execution_count": null,
   "metadata": {},
   "outputs": [],
   "source": []
  },
  {
   "cell_type": "code",
   "execution_count": null,
   "metadata": {},
   "outputs": [],
   "source": []
  },
  {
   "cell_type": "code",
   "execution_count": null,
   "metadata": {},
   "outputs": [],
   "source": []
  },
  {
   "cell_type": "code",
   "execution_count": null,
   "metadata": {},
   "outputs": [],
   "source": [
    "dust = df.drop(['Time','Lat','Long','Dust Density Accuracy','Ice','Ice Accuracy'], axis=1)\n",
    "dust = dust.set_index(['Date'])\n",
    "dust"
   ]
  },
  {
   "cell_type": "code",
   "execution_count": null,
   "metadata": {},
   "outputs": [],
   "source": [
    "plt.xlabel('Date')\n",
    "plt.ylabel('Dust Density')\n",
    "plt.xticks(rotation=90)\n",
    "plt.plot(dust)"
   ]
  },
  {
   "cell_type": "code",
   "execution_count": null,
   "metadata": {},
   "outputs": [],
   "source": [
    "rolmean = dust.rolling(window=365).mean()\n",
    "rolstd = dust.rolling(window=365).std()\n",
    "print(rolmean,rolstd) "
   ]
  },
  {
   "cell_type": "code",
   "execution_count": null,
   "metadata": {},
   "outputs": [],
   "source": [
    "orig = plt.plot(dust, color='blue', label='Original')\n",
    "mean = plt.plot(rolmean, color='red', label='Rolling mean')\n",
    "std = plt.plot(rolstd, color='black', label='Rolling std')\n",
    "plt.legend(loc='best')\n",
    "plt.title('Rolling Mean & Standard Deviation')\n",
    "plt.xticks(rotation=90)\n",
    "\n",
    "plt.show(block=False)"
   ]
  },
  {
   "cell_type": "code",
   "execution_count": null,
   "metadata": {},
   "outputs": [],
   "source": [
    "newdust=df.drop(['Time','Lat','Long','Dust Density Accuracy','Ice','Ice Accuracy'], axis=1)\n",
    "newdust\n"
   ]
  },
  {
   "cell_type": "code",
   "execution_count": null,
   "metadata": {},
   "outputs": [],
   "source": [
    "dust_ave=dust.groupby(pd.Grouper(level='Date',axis=0)).mean()\n",
    "dust_ave"
   ]
  },
  {
   "cell_type": "code",
   "execution_count": null,
   "metadata": {},
   "outputs": [],
   "source": [
    "plt.xlabel('Date')\n",
    "plt.ylabel('Dust Density')\n",
    "plt.xticks(rotation=90)\n",
    "plt.plot(dust_ave)\n",
    "plt.title('Daily Moving Average of Dust Density')"
   ]
  },
  {
   "cell_type": "code",
   "execution_count": null,
   "metadata": {},
   "outputs": [],
   "source": [
    "orig = plt.plot(dust, color='blue', label='Original')\n",
    "plt.xlabel('Date')\n",
    "plt.ylabel('Dust Density')\n",
    "plt.xticks(rotation=90)\n",
    "ave = plt.plot(dust_ave, color = 'red', label=\"Moving Average Daily\")\n",
    "plt.legend(loc='best')\n",
    "plt.title('Dust Density Rolling Mean & Original Dust Density')\n",
    "plt.xticks(rotation=90)\n",
    "\n",
    "plt.show(block=False)"
   ]
  },
  {
   "cell_type": "code",
   "execution_count": null,
   "metadata": {},
   "outputs": [],
   "source": [
    "dust_log = np.log(dust)\n",
    "plt.xticks(rotation=90)\n",
    "plt.plot(dust_log)"
   ]
  },
  {
   "cell_type": "code",
   "execution_count": null,
   "metadata": {},
   "outputs": [],
   "source": [
    "movingAverage = dust_log.rolling(window=30).mean()\n",
    "movingSTD = dust_log.rolling(window=30).std()\n",
    "plt.plot(dust_log)\n",
    "plt.xticks(rotation=90)\n",
    "plt.plot(movingAverage, color='red')\n"
   ]
  },
  {
   "cell_type": "code",
   "execution_count": null,
   "metadata": {},
   "outputs": [],
   "source": [
    "#concatanate date and time \n",
    "df.head()\n",
    "df['Date'] = df['Date']+df['Time']\n",
    "print(df)"
   ]
  },
  {
   "cell_type": "code",
   "execution_count": null,
   "metadata": {},
   "outputs": [],
   "source": [
    "#drop time \n",
    "sample=df.drop(['Time'], axis=1)\n",
    "#drop everything but date and dust density \n",
    "sample=sample.drop(['Lat','Long','Dust Density Accuracy','Ice','Ice Accuracy'],axis=1)\n",
    "sample[sample['Date']=='2015-04-2500:00:25.617']"
   ]
  },
  {
   "cell_type": "code",
   "execution_count": null,
   "metadata": {},
   "outputs": [],
   "source": [
    "sample=dust.loc['2015-04-25':'2015-04-30']\n",
    "sample #last 5 day "
   ]
  },
  {
   "cell_type": "code",
   "execution_count": null,
   "metadata": {},
   "outputs": [],
   "source": [
    "plt.xlabel('Date')\n",
    "plt.ylabel('Dust Density')\n",
    "plt.xticks(rotation=90)\n",
    "plt.plot(sample)"
   ]
  },
  {
   "cell_type": "code",
   "execution_count": null,
   "metadata": {},
   "outputs": [],
   "source": []
  }
 ],
 "metadata": {
  "kernelspec": {
   "display_name": "Python 3",
   "language": "python",
   "name": "python3"
  },
  "language_info": {
   "codemirror_mode": {
    "name": "ipython",
    "version": 3
   },
   "file_extension": ".py",
   "mimetype": "text/x-python",
   "name": "python",
   "nbconvert_exporter": "python",
   "pygments_lexer": "ipython3",
   "version": "3.8.3"
  }
 },
 "nbformat": 4,
 "nbformat_minor": 4
}
